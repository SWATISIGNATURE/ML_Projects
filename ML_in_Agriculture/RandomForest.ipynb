{
 "cells": [
  {
   "cell_type": "code",
   "execution_count": 56,
   "metadata": {},
   "outputs": [
    {
     "name": "stdout",
     "output_type": "stream",
     "text": [
      "<class 'pandas.core.frame.DataFrame'>\n",
      "RangeIndex: 88858 entries, 0 to 88857\n",
      "Data columns (total 10 columns):\n",
      "ID                         88858 non-null object\n",
      "Estimated_Insects_Count    88858 non-null int64\n",
      "Crop_Type                  88858 non-null int64\n",
      "Soil_Type                  88858 non-null int64\n",
      "Pesticide_Use_Category     88858 non-null int64\n",
      "Number_Doses_Week          88858 non-null int64\n",
      "Number_Weeks_Used          79858 non-null float64\n",
      "Number_Weeks_Quit          88858 non-null int64\n",
      "Season                     88858 non-null int64\n",
      "Crop_Damage                88858 non-null int64\n",
      "dtypes: float64(1), int64(8), object(1)\n",
      "memory usage: 6.8+ MB\n",
      "(71086, 8) (17772, 8)\n",
      "(71086,) (17772,)\n"
     ]
    }
   ],
   "source": [
    "import pandas as pd\n",
    "import numpy as np\n",
    "import matplotlib.pyplot as plt\n",
    "import seaborn as sns\n",
    "%matplotlib inline \n",
    "from warnings import filterwarnings\n",
    "filterwarnings('ignore')\n",
    "\n",
    "## Importing Dataset\n",
    "\n",
    "Orig_df = pd.read_csv('train.csv')\n",
    "AV_test_df = pd.read_csv('test.csv')\n",
    "\n",
    "## Data Analysis\n",
    "\n",
    "Orig_df.shape\n",
    "\n",
    "Orig_df.shape\n",
    "\n",
    "### Data Check\n",
    "\n",
    "Orig_df.head()\n",
    "\n",
    "Orig_df.tail()\n",
    "\n",
    "Orig_df.info()\n",
    "\n",
    "\n",
    "\n",
    "### Descriptive Statistics\n",
    "\n",
    "Orig_df.describe()\n",
    "\n",
    "### Duplicate check\n",
    "\n",
    "Orig_df.duplicated().any()\n",
    "\n",
    "\n",
    "\n",
    "### Missing Value Check\n",
    "\n",
    "Orig_df.isna().sum()\n",
    "\n",
    "\n",
    "\n",
    "## Univariate Analysis\n",
    "\n",
    "Orig_df.columns\n",
    "\n",
    "Orig_df['ID'].nunique() \n",
    "\n",
    "\n",
    "to_drop = []\n",
    "to_drop.append('ID')\n",
    "\n",
    "\n",
    "\n",
    "\n",
    "Orig_df['Crop_Type'].value_counts()\n",
    "\n",
    "\n",
    "\n",
    "Orig_df['Soil_Type'].value_counts()\n",
    "\n",
    "Orig_df['Pesticide_Use_Category'].value_counts()\n",
    "\n",
    "Orig_df['Number_Doses_Week'].value_counts()\n",
    "\n",
    "\n",
    "\n",
    "Orig_df['Number_Weeks_Used'].value_counts()\n",
    "\n",
    "# plt.bar(Orig_df['Number_Weeks_Used'],Orig_df['Number_Weeks_Used'].count())\n",
    "\n",
    "\n",
    "Orig_df['Season'].value_counts()\n",
    "\n",
    "Orig_df['Crop_Damage'].value_counts()\n",
    "\n",
    "## Imputing the Missing Values\n",
    "\n",
    "Orig_df['Number_Weeks_Used'] = Orig_df['Number_Weeks_Used'].fillna(Orig_df['Number_Doses_Week']) #imputed with the values of number of doses\n",
    "\n",
    "AV_test_df.isna().sum()\n",
    "\n",
    "AV_test_df['Number_Weeks_Used'] = AV_test_df['Number_Weeks_Used'].fillna(AV_test_df['Number_Doses_Week']) #imputed with the values of number of doses\n",
    "\n",
    "Orig_df.isna().sum()\n",
    "\n",
    "AV_test_df.isna().sum()\n",
    "\n",
    "## Dropping columns\n",
    "\n",
    "Orig_df.drop(columns=['ID'],inplace=True)\n",
    "\n",
    "AV_test_df.drop(columns=['ID'],inplace=True)\n",
    "\n",
    "## Creating X,y\n",
    "\n",
    "X = Orig_df[['Estimated_Insects_Count', 'Crop_Type', 'Soil_Type',\n",
    "       'Pesticide_Use_Category', 'Number_Doses_Week', 'Number_Weeks_Used',\n",
    "       'Number_Weeks_Quit', 'Season']]\n",
    "y = Orig_df['Crop_Damage']\n",
    "\n",
    "## Train Test Split\n",
    "\n",
    "from sklearn.model_selection import train_test_split\n",
    "\n",
    "X_train,X_test,y_train,y_test = train_test_split(X,y,random_state=0,test_size=0.2)\n",
    "\n",
    "## Scaling\n",
    "\n",
    "from sklearn.preprocessing import StandardScaler\n",
    "\n",
    "std_scaler = StandardScaler()\n",
    "X_train_scale = std_scaler.fit_transform(X_train)\n",
    "X_test_scale = std_scaler.fit_transform(X_test)\n",
    "\n",
    "## Applying models\n",
    "\n",
    "print(X_train.shape,X_test.shape)\n",
    "\n",
    "print(y_train.shape,y_test.shape)"
   ]
  },
  {
   "cell_type": "code",
   "execution_count": 2,
   "metadata": {},
   "outputs": [
    {
     "data": {
      "text/plain": [
       "(array([37743., 12024., 12779., 10665.,  7279.,  4350.,  2501.,  1041.,\n",
       "          383.,    93.]),\n",
       " array([ 0.,  5., 10., 15., 20., 25., 30., 35., 40., 45., 50.]),\n",
       " <a list of 10 Patch objects>)"
      ]
     },
     "execution_count": 2,
     "metadata": {},
     "output_type": "execute_result"
    },
    {
     "data": {
      "image/png": "[encoded data removed]",
      "text/plain": [
       "<Figure size 432x288 with 1 Axes>"
      ]
     },
     "metadata": {
      "needs_background": "light"
     },
     "output_type": "display_data"
    }
   ],
   "source": [
    "plt.hist(Orig_df['Number_Weeks_Quit'])"
   ]
  },
  {
   "cell_type": "code",
   "execution_count": 3,
   "metadata": {},
   "outputs": [
    {
     "data": {
      "text/plain": [
       "<matplotlib.axes._subplots.AxesSubplot at 0x145a6758710>"
      ]
     },
     "execution_count": 3,
     "metadata": {},
     "output_type": "execute_result"
    },
    {
     "data": {
      "image/png": "[encoded data removed]",
      "text/plain": [
       "<Figure size 432x288 with 1 Axes>"
      ]
     },
     "metadata": {
      "needs_background": "light"
     },
     "output_type": "display_data"
    }
   ],
   "source": [
    "sns.distplot(Orig_df['Estimated_Insects_Count']) # its for Estimated insects count per square meter"
   ]
  },
  {
   "cell_type": "code",
   "execution_count": 16,
   "metadata": {},
   "outputs": [],
   "source": [
    "from sklearn.ensemble import RandomForestClassifier\n",
    "from sklearn.model_selection import RandomizedSearchCV\n",
    "params = {'n_estimators':[100,200,300,400],\n",
    "                            'criterion':['gini','entropy'],\n",
    "                            'max_depth':[2,3,4,5,7], \n",
    "                            'min_samples_split':[2,4,5], \n",
    "                            'min_samples_leaf':[2,4,6],\n",
    "                            'max_leaf_nodes':[2,4,6,8]}"
   ]
  },
  {
   "cell_type": "code",
   "execution_count": 17,
   "metadata": {},
   "outputs": [],
   "source": [
    "rf = RandomForestClassifier()\n",
    "rscv = RandomizedSearchCV(rf,param_distributions=params,cv=5)"
   ]
  },
  {
   "cell_type": "code",
   "execution_count": 18,
   "metadata": {},
   "outputs": [
    {
     "data": {
      "text/plain": [
       "RandomizedSearchCV(cv=5, estimator=RandomForestClassifier(),\n",
       "                   param_distributions={'criterion': ['gini', 'entropy'],\n",
       "                                        'max_depth': [2, 3, 4, 5, 7],\n",
       "                                        'max_leaf_nodes': [2, 4, 6, 8],\n",
       "                                        'min_samples_leaf': [2, 4, 6],\n",
       "                                        'min_samples_split': [2, 4, 5],\n",
       "                                        'n_estimators': [100, 200, 300, 400]})"
      ]
     },
     "execution_count": 18,
     "metadata": {},
     "output_type": "execute_result"
    }
   ],
   "source": [
    "rscv.fit(X_train,y_train)"
   ]
  },
  {
   "cell_type": "code",
   "execution_count": 19,
   "metadata": {},
   "outputs": [
    {
     "data": {
      "text/plain": [
       "RandomForestClassifier(criterion='entropy', max_depth=4, max_leaf_nodes=6,\n",
       "                       min_samples_leaf=2, n_estimators=300)"
      ]
     },
     "execution_count": 19,
     "metadata": {},
     "output_type": "execute_result"
    }
   ],
   "source": [
    "rscv.best_estimator_"
   ]
  },
  {
   "cell_type": "code",
   "execution_count": 21,
   "metadata": {},
   "outputs": [],
   "source": [
    "rf_model = RandomForestClassifier(criterion='entropy', max_depth=4, max_leaf_nodes=6,\n",
    "                       min_samples_leaf=2, n_estimators=300,random_state=0)"
   ]
  },
  {
   "cell_type": "code",
   "execution_count": 22,
   "metadata": {},
   "outputs": [
    {
     "data": {
      "text/plain": [
       "RandomForestClassifier(criterion='entropy', max_depth=4, max_leaf_nodes=6,\n",
       "                       min_samples_leaf=2, n_estimators=300, random_state=0)"
      ]
     },
     "execution_count": 22,
     "metadata": {},
     "output_type": "execute_result"
    }
   ],
   "source": [
    "rf_model.fit(X_train_scale,y_train)"
   ]
  },
  {
   "cell_type": "code",
   "execution_count": 23,
   "metadata": {},
   "outputs": [],
   "source": [
    "y_pred_rf = rf_model.predict(X_test_scale)"
   ]
  },
  {
   "cell_type": "code",
   "execution_count": 27,
   "metadata": {},
   "outputs": [],
   "source": [
    "from sklearn.metrics import accuracy_score\n",
    "from sklearn.model_selection import cross_val_score\n",
    "testing_score = round(accuracy_score(y_test,y_pred_rf),3)\n",
    "training_score = round(np.mean((cross_val_score(rf_model, X_train_scale, y_train, cv=5))),3)\n"
   ]
  },
  {
   "cell_type": "code",
   "execution_count": 28,
   "metadata": {},
   "outputs": [
    {
     "name": "stdout",
     "output_type": "stream",
     "text": [
      "0.84 0.84\n"
     ]
    }
   ],
   "source": [
    "print(training_score,testing_score)"
   ]
  },
  {
   "cell_type": "code",
   "execution_count": 37,
   "metadata": {},
   "outputs": [
    {
     "data": {
      "text/plain": [
       "Number_Weeks_Used          0.244538\n",
       "Pesticide_Use_Category     0.233311\n",
       "Number_Weeks_Quit          0.231932\n",
       "Estimated_Insects_Count    0.184171\n",
       "Number_Doses_Week          0.088018\n",
       "Crop_Type                  0.014513\n",
       "Soil_Type                  0.003496\n",
       "Season                     0.000022\n",
       "dtype: float64"
      ]
     },
     "execution_count": 37,
     "metadata": {},
     "output_type": "execute_result"
    }
   ],
   "source": [
    "features = pd.Series(rf_model.feature_importances_,index=X_train.columns)\n",
    "features.sort_values(ascending=False)"
   ]
  },
  {
   "cell_type": "code",
   "execution_count": 45,
   "metadata": {},
   "outputs": [
    {
     "data": {
      "text/plain": [
       "<matplotlib.axes._subplots.AxesSubplot at 0x145b4e1a550>"
      ]
     },
     "execution_count": 45,
     "metadata": {},
     "output_type": "execute_result"
    },
    {
     "data": {
      "image/png": "[encoded data removed]",
      "text/plain": [
       "<Figure size 720x720 with 2 Axes>"
      ]
     },
     "metadata": {
      "needs_background": "light"
     },
     "output_type": "display_data"
    }
   ],
   "source": [
    "plt.figure(figsize=(10,10))\n",
    "sns.heatmap(Orig_df.corr(),cmap='Pastel1',annot=True)"
   ]
  },
  {
   "cell_type": "code",
   "execution_count": 57,
   "metadata": {},
   "outputs": [],
   "source": [
    "y_pred_res = rf_model.predict(AV_test_df)"
   ]
  },
  {
   "cell_type": "code",
   "execution_count": 61,
   "metadata": {},
   "outputs": [
    {
     "data": {
      "text/plain": [
       "(59310, 9)"
      ]
     },
     "execution_count": 61,
     "metadata": {},
     "output_type": "execute_result"
    }
   ],
   "source": [
    "AV_test_df = pd.read_csv('test.csv')\n",
    "AV_test_df.shape"
   ]
  },
  {
   "cell_type": "code",
   "execution_count": 58,
   "metadata": {},
   "outputs": [
    {
     "data": {
      "text/plain": [
       "59310"
      ]
     },
     "execution_count": 58,
     "metadata": {},
     "output_type": "execute_result"
    }
   ],
   "source": [
    "len(y_pred_res)"
   ]
  },
  {
   "cell_type": "code",
   "execution_count": 63,
   "metadata": {},
   "outputs": [],
   "source": [
    "result_out = AV_test_df[['ID']]\n",
    "result_out['Crop_Damage'] = y_pred_res\n",
    "result_out = result_out[['ID','Crop_Damage']]"
   ]
  },
  {
   "cell_type": "code",
   "execution_count": 64,
   "metadata": {},
   "outputs": [],
   "source": [
    "result_out.to_csv('AV_Agri_RF.csv',index=False)"
   ]
  },
  {
   "cell_type": "markdown",
   "metadata": {},
   "source": [
    "## Feature Engineering"
   ]
  },
  {
   "cell_type": "code",
   "execution_count": 67,
   "metadata": {},
   "outputs": [],
   "source": [
    "Orig_df = pd.read_csv('train.csv')"
   ]
  },
  {
   "cell_type": "code",
   "execution_count": 68,
   "metadata": {},
   "outputs": [
    {
     "data": {
      "text/html": [
       "<div>\n",
       "<style scoped>\n",
       "    .dataframe tbody tr th:only-of-type {\n",
       "        vertical-align: middle;\n",
       "    }\n",
       "\n",
       "    .dataframe tbody tr th {\n",
       "        vertical-align: top;\n",
       "    }\n",
       "\n",
       "    .dataframe thead th {\n",
       "        text-align: right;\n",
       "    }\n",
       "</style>\n",
       "<table border=\"1\" class=\"dataframe\">\n",
       "  <thead>\n",
       "    <tr style=\"text-align: right;\">\n",
       "      <th></th>\n",
       "      <th>ID</th>\n",
       "      <th>Estimated_Insects_Count</th>\n",
       "      <th>Crop_Type</th>\n",
       "      <th>Soil_Type</th>\n",
       "      <th>Pesticide_Use_Category</th>\n",
       "      <th>Number_Doses_Week</th>\n",
       "      <th>Number_Weeks_Used</th>\n",
       "      <th>Number_Weeks_Quit</th>\n",
       "      <th>Season</th>\n",
       "      <th>Crop_Damage</th>\n",
       "    </tr>\n",
       "  </thead>\n",
       "  <tbody>\n",
       "    <tr>\n",
       "      <th>0</th>\n",
       "      <td>F00000001</td>\n",
       "      <td>188</td>\n",
       "      <td>1</td>\n",
       "      <td>0</td>\n",
       "      <td>1</td>\n",
       "      <td>0</td>\n",
       "      <td>0.0</td>\n",
       "      <td>0</td>\n",
       "      <td>1</td>\n",
       "      <td>0</td>\n",
       "    </tr>\n",
       "    <tr>\n",
       "      <th>1</th>\n",
       "      <td>F00000003</td>\n",
       "      <td>209</td>\n",
       "      <td>1</td>\n",
       "      <td>0</td>\n",
       "      <td>1</td>\n",
       "      <td>0</td>\n",
       "      <td>0.0</td>\n",
       "      <td>0</td>\n",
       "      <td>2</td>\n",
       "      <td>1</td>\n",
       "    </tr>\n",
       "    <tr>\n",
       "      <th>2</th>\n",
       "      <td>F00000004</td>\n",
       "      <td>257</td>\n",
       "      <td>1</td>\n",
       "      <td>0</td>\n",
       "      <td>1</td>\n",
       "      <td>0</td>\n",
       "      <td>0.0</td>\n",
       "      <td>0</td>\n",
       "      <td>2</td>\n",
       "      <td>1</td>\n",
       "    </tr>\n",
       "    <tr>\n",
       "      <th>3</th>\n",
       "      <td>F00000005</td>\n",
       "      <td>257</td>\n",
       "      <td>1</td>\n",
       "      <td>1</td>\n",
       "      <td>1</td>\n",
       "      <td>0</td>\n",
       "      <td>0.0</td>\n",
       "      <td>0</td>\n",
       "      <td>2</td>\n",
       "      <td>1</td>\n",
       "    </tr>\n",
       "    <tr>\n",
       "      <th>4</th>\n",
       "      <td>F00000006</td>\n",
       "      <td>342</td>\n",
       "      <td>1</td>\n",
       "      <td>0</td>\n",
       "      <td>1</td>\n",
       "      <td>0</td>\n",
       "      <td>0.0</td>\n",
       "      <td>0</td>\n",
       "      <td>2</td>\n",
       "      <td>1</td>\n",
       "    </tr>\n",
       "    <tr>\n",
       "      <th>...</th>\n",
       "      <td>...</td>\n",
       "      <td>...</td>\n",
       "      <td>...</td>\n",
       "      <td>...</td>\n",
       "      <td>...</td>\n",
       "      <td>...</td>\n",
       "      <td>...</td>\n",
       "      <td>...</td>\n",
       "      <td>...</td>\n",
       "      <td>...</td>\n",
       "    </tr>\n",
       "    <tr>\n",
       "      <th>88853</th>\n",
       "      <td>F00155935</td>\n",
       "      <td>3337</td>\n",
       "      <td>1</td>\n",
       "      <td>0</td>\n",
       "      <td>2</td>\n",
       "      <td>10</td>\n",
       "      <td>12.0</td>\n",
       "      <td>44</td>\n",
       "      <td>3</td>\n",
       "      <td>0</td>\n",
       "    </tr>\n",
       "    <tr>\n",
       "      <th>88854</th>\n",
       "      <td>F00155938</td>\n",
       "      <td>3516</td>\n",
       "      <td>1</td>\n",
       "      <td>0</td>\n",
       "      <td>2</td>\n",
       "      <td>10</td>\n",
       "      <td>20.0</td>\n",
       "      <td>38</td>\n",
       "      <td>1</td>\n",
       "      <td>0</td>\n",
       "    </tr>\n",
       "    <tr>\n",
       "      <th>88855</th>\n",
       "      <td>F00155939</td>\n",
       "      <td>3516</td>\n",
       "      <td>1</td>\n",
       "      <td>0</td>\n",
       "      <td>2</td>\n",
       "      <td>15</td>\n",
       "      <td>40.0</td>\n",
       "      <td>8</td>\n",
       "      <td>2</td>\n",
       "      <td>0</td>\n",
       "    </tr>\n",
       "    <tr>\n",
       "      <th>88856</th>\n",
       "      <td>F00155942</td>\n",
       "      <td>3702</td>\n",
       "      <td>1</td>\n",
       "      <td>0</td>\n",
       "      <td>2</td>\n",
       "      <td>10</td>\n",
       "      <td>25.0</td>\n",
       "      <td>18</td>\n",
       "      <td>3</td>\n",
       "      <td>0</td>\n",
       "    </tr>\n",
       "    <tr>\n",
       "      <th>88857</th>\n",
       "      <td>F00155945</td>\n",
       "      <td>3895</td>\n",
       "      <td>1</td>\n",
       "      <td>0</td>\n",
       "      <td>2</td>\n",
       "      <td>20</td>\n",
       "      <td>37.0</td>\n",
       "      <td>7</td>\n",
       "      <td>3</td>\n",
       "      <td>0</td>\n",
       "    </tr>\n",
       "  </tbody>\n",
       "</table>\n",
       "<p>88858 rows × 10 columns</p>\n",
       "</div>"
      ],
      "text/plain": [
       "              ID  Estimated_Insects_Count  Crop_Type  Soil_Type  \\\n",
       "0      F00000001                      188          1          0   \n",
       "1      F00000003                      209          1          0   \n",
       "2      F00000004                      257          1          0   \n",
       "3      F00000005                      257          1          1   \n",
       "4      F00000006                      342          1          0   \n",
       "...          ...                      ...        ...        ...   \n",
       "88853  F00155935                     3337          1          0   \n",
       "88854  F00155938                     3516          1          0   \n",
       "88855  F00155939                     3516          1          0   \n",
       "88856  F00155942                     3702          1          0   \n",
       "88857  F00155945                     3895          1          0   \n",
       "\n",
       "       Pesticide_Use_Category  Number_Doses_Week  Number_Weeks_Used  \\\n",
       "0                           1                  0                0.0   \n",
       "1                           1                  0                0.0   \n",
       "2                           1                  0                0.0   \n",
       "3                           1                  0                0.0   \n",
       "4                           1                  0                0.0   \n",
       "...                       ...                ...                ...   \n",
       "88853                       2                 10               12.0   \n",
       "88854                       2                 10               20.0   \n",
       "88855                       2                 15               40.0   \n",
       "88856                       2                 10               25.0   \n",
       "88857                       2                 20               37.0   \n",
       "\n",
       "       Number_Weeks_Quit  Season  Crop_Damage  \n",
       "0                      0       1            0  \n",
       "1                      0       2            1  \n",
       "2                      0       2            1  \n",
       "3                      0       2            1  \n",
       "4                      0       2            1  \n",
       "...                  ...     ...          ...  \n",
       "88853                 44       3            0  \n",
       "88854                 38       1            0  \n",
       "88855                  8       2            0  \n",
       "88856                 18       3            0  \n",
       "88857                  7       3            0  \n",
       "\n",
       "[88858 rows x 10 columns]"
      ]
     },
     "execution_count": 68,
     "metadata": {},
     "output_type": "execute_result"
    }
   ],
   "source": [
    "Orig_df"
   ]
  },
  {
   "cell_type": "code",
   "execution_count": 73,
   "metadata": {},
   "outputs": [
    {
     "data": {
      "image/png": "[encoded data removed]",
      "text/plain": [
       "<Figure size 720x720 with 1 Axes>"
      ]
     },
     "metadata": {
      "needs_background": "light"
     },
     "output_type": "display_data"
    }
   ],
   "source": [
    "plt.figure(figsize=(10,10))\n",
    "sns.distplot(Orig_df['Number_Doses_Week'])\n",
    "#sns.distplot(Orig_df['Number_Weeks_Used'])\n",
    "plt.show()"
   ]
  },
  {
   "cell_type": "code",
   "execution_count": 74,
   "metadata": {},
   "outputs": [
    {
     "data": {
      "text/plain": [
       "(array([ 1683.,  6627., 15249., 13610., 15155., 13487.,  6921.,  4991.,\n",
       "         1850.,   285.]),\n",
       " array([ 0. ,  6.7, 13.4, 20.1, 26.8, 33.5, 40.2, 46.9, 53.6, 60.3, 67. ]),\n",
       " <a list of 10 Patch objects>)"
      ]
     },
     "execution_count": 74,
     "metadata": {},
     "output_type": "execute_result"
    },
    {
     "data": {
      "image/png": "[encoded data removed]",
      "text/plain": [
       "<Figure size 432x288 with 1 Axes>"
      ]
     },
     "metadata": {
      "needs_background": "light"
     },
     "output_type": "display_data"
    }
   ],
   "source": [
    "plt.hist(Orig_df['Number_Weeks_Used'])"
   ]
  },
  {
   "cell_type": "code",
   "execution_count": 75,
   "metadata": {},
   "outputs": [
    {
     "data": {
      "text/html": [
       "<div>\n",
       "<style scoped>\n",
       "    .dataframe tbody tr th:only-of-type {\n",
       "        vertical-align: middle;\n",
       "    }\n",
       "\n",
       "    .dataframe tbody tr th {\n",
       "        vertical-align: top;\n",
       "    }\n",
       "\n",
       "    .dataframe thead th {\n",
       "        text-align: right;\n",
       "    }\n",
       "</style>\n",
       "<table border=\"1\" class=\"dataframe\">\n",
       "  <thead>\n",
       "    <tr style=\"text-align: right;\">\n",
       "      <th></th>\n",
       "      <th>ID</th>\n",
       "      <th>Estimated_Insects_Count</th>\n",
       "      <th>Crop_Type</th>\n",
       "      <th>Soil_Type</th>\n",
       "      <th>Pesticide_Use_Category</th>\n",
       "      <th>Number_Doses_Week</th>\n",
       "      <th>Number_Weeks_Used</th>\n",
       "      <th>Number_Weeks_Quit</th>\n",
       "      <th>Season</th>\n",
       "      <th>Crop_Damage</th>\n",
       "    </tr>\n",
       "  </thead>\n",
       "  <tbody>\n",
       "    <tr>\n",
       "      <th>5</th>\n",
       "      <td>F00000008</td>\n",
       "      <td>448</td>\n",
       "      <td>0</td>\n",
       "      <td>1</td>\n",
       "      <td>1</td>\n",
       "      <td>0</td>\n",
       "      <td>NaN</td>\n",
       "      <td>0</td>\n",
       "      <td>2</td>\n",
       "      <td>1</td>\n",
       "    </tr>\n",
       "    <tr>\n",
       "      <th>6</th>\n",
       "      <td>F00000009</td>\n",
       "      <td>448</td>\n",
       "      <td>0</td>\n",
       "      <td>1</td>\n",
       "      <td>1</td>\n",
       "      <td>0</td>\n",
       "      <td>NaN</td>\n",
       "      <td>0</td>\n",
       "      <td>2</td>\n",
       "      <td>1</td>\n",
       "    </tr>\n",
       "    <tr>\n",
       "      <th>10</th>\n",
       "      <td>F00000021</td>\n",
       "      <td>1212</td>\n",
       "      <td>1</td>\n",
       "      <td>0</td>\n",
       "      <td>1</td>\n",
       "      <td>0</td>\n",
       "      <td>NaN</td>\n",
       "      <td>0</td>\n",
       "      <td>3</td>\n",
       "      <td>0</td>\n",
       "    </tr>\n",
       "    <tr>\n",
       "      <th>17</th>\n",
       "      <td>F00000037</td>\n",
       "      <td>2401</td>\n",
       "      <td>0</td>\n",
       "      <td>1</td>\n",
       "      <td>1</td>\n",
       "      <td>0</td>\n",
       "      <td>NaN</td>\n",
       "      <td>0</td>\n",
       "      <td>1</td>\n",
       "      <td>1</td>\n",
       "    </tr>\n",
       "    <tr>\n",
       "      <th>35</th>\n",
       "      <td>F00000076</td>\n",
       "      <td>257</td>\n",
       "      <td>0</td>\n",
       "      <td>0</td>\n",
       "      <td>3</td>\n",
       "      <td>30</td>\n",
       "      <td>NaN</td>\n",
       "      <td>0</td>\n",
       "      <td>2</td>\n",
       "      <td>0</td>\n",
       "    </tr>\n",
       "    <tr>\n",
       "      <th>...</th>\n",
       "      <td>...</td>\n",
       "      <td>...</td>\n",
       "      <td>...</td>\n",
       "      <td>...</td>\n",
       "      <td>...</td>\n",
       "      <td>...</td>\n",
       "      <td>...</td>\n",
       "      <td>...</td>\n",
       "      <td>...</td>\n",
       "      <td>...</td>\n",
       "    </tr>\n",
       "    <tr>\n",
       "      <th>88786</th>\n",
       "      <td>F00155793</td>\n",
       "      <td>1785</td>\n",
       "      <td>1</td>\n",
       "      <td>0</td>\n",
       "      <td>2</td>\n",
       "      <td>60</td>\n",
       "      <td>NaN</td>\n",
       "      <td>16</td>\n",
       "      <td>2</td>\n",
       "      <td>0</td>\n",
       "    </tr>\n",
       "    <tr>\n",
       "      <th>88788</th>\n",
       "      <td>F00155801</td>\n",
       "      <td>1898</td>\n",
       "      <td>1</td>\n",
       "      <td>0</td>\n",
       "      <td>2</td>\n",
       "      <td>15</td>\n",
       "      <td>NaN</td>\n",
       "      <td>3</td>\n",
       "      <td>1</td>\n",
       "      <td>0</td>\n",
       "    </tr>\n",
       "    <tr>\n",
       "      <th>88825</th>\n",
       "      <td>F00155882</td>\n",
       "      <td>2542</td>\n",
       "      <td>1</td>\n",
       "      <td>0</td>\n",
       "      <td>2</td>\n",
       "      <td>10</td>\n",
       "      <td>NaN</td>\n",
       "      <td>21</td>\n",
       "      <td>2</td>\n",
       "      <td>0</td>\n",
       "    </tr>\n",
       "    <tr>\n",
       "      <th>88833</th>\n",
       "      <td>F00155899</td>\n",
       "      <td>2687</td>\n",
       "      <td>1</td>\n",
       "      <td>0</td>\n",
       "      <td>2</td>\n",
       "      <td>10</td>\n",
       "      <td>NaN</td>\n",
       "      <td>21</td>\n",
       "      <td>2</td>\n",
       "      <td>0</td>\n",
       "    </tr>\n",
       "    <tr>\n",
       "      <th>88838</th>\n",
       "      <td>F00155906</td>\n",
       "      <td>2840</td>\n",
       "      <td>1</td>\n",
       "      <td>0</td>\n",
       "      <td>2</td>\n",
       "      <td>20</td>\n",
       "      <td>NaN</td>\n",
       "      <td>13</td>\n",
       "      <td>1</td>\n",
       "      <td>0</td>\n",
       "    </tr>\n",
       "  </tbody>\n",
       "</table>\n",
       "<p>9000 rows × 10 columns</p>\n",
       "</div>"
      ],
      "text/plain": [
       "              ID  Estimated_Insects_Count  Crop_Type  Soil_Type  \\\n",
       "5      F00000008                      448          0          1   \n",
       "6      F00000009                      448          0          1   \n",
       "10     F00000021                     1212          1          0   \n",
       "17     F00000037                     2401          0          1   \n",
       "35     F00000076                      257          0          0   \n",
       "...          ...                      ...        ...        ...   \n",
       "88786  F00155793                     1785          1          0   \n",
       "88788  F00155801                     1898          1          0   \n",
       "88825  F00155882                     2542          1          0   \n",
       "88833  F00155899                     2687          1          0   \n",
       "88838  F00155906                     2840          1          0   \n",
       "\n",
       "       Pesticide_Use_Category  Number_Doses_Week  Number_Weeks_Used  \\\n",
       "5                           1                  0                NaN   \n",
       "6                           1                  0                NaN   \n",
       "10                          1                  0                NaN   \n",
       "17                          1                  0                NaN   \n",
       "35                          3                 30                NaN   \n",
       "...                       ...                ...                ...   \n",
       "88786                       2                 60                NaN   \n",
       "88788                       2                 15                NaN   \n",
       "88825                       2                 10                NaN   \n",
       "88833                       2                 10                NaN   \n",
       "88838                       2                 20                NaN   \n",
       "\n",
       "       Number_Weeks_Quit  Season  Crop_Damage  \n",
       "5                      0       2            1  \n",
       "6                      0       2            1  \n",
       "10                     0       3            0  \n",
       "17                     0       1            1  \n",
       "35                     0       2            0  \n",
       "...                  ...     ...          ...  \n",
       "88786                 16       2            0  \n",
       "88788                  3       1            0  \n",
       "88825                 21       2            0  \n",
       "88833                 21       2            0  \n",
       "88838                 13       1            0  \n",
       "\n",
       "[9000 rows x 10 columns]"
      ]
     },
     "execution_count": 75,
     "metadata": {},
     "output_type": "execute_result"
    }
   ],
   "source": [
    "Orig_df[Orig_df['Number_Weeks_Used'].isna()]"
   ]
  },
  {
   "cell_type": "code",
   "execution_count": 77,
   "metadata": {},
   "outputs": [
    {
     "data": {
      "text/plain": [
       "<matplotlib.axes._subplots.AxesSubplot at 0x145b98901d0>"
      ]
     },
     "execution_count": 77,
     "metadata": {},
     "output_type": "execute_result"
    },
    {
     "data": {
      "image/png": "[encoded data removed]",
      "text/plain": [
       "<Figure size 432x288 with 1 Axes>"
      ]
     },
     "metadata": {
      "needs_background": "light"
     },
     "output_type": "display_data"
    }
   ],
   "source": [
    "sns.countplot(Orig_df['Pesticide_Use_Category'],hue=Orig_df['Crop_Damage'])"
   ]
  },
  {
   "cell_type": "code",
   "execution_count": 87,
   "metadata": {},
   "outputs": [
    {
     "data": {
      "text/plain": [
       "ID                         1469\n",
       "Estimated_Insects_Count    1469\n",
       "Crop_Type                  1469\n",
       "Soil_Type                  1469\n",
       "Pesticide_Use_Category     1469\n",
       "Number_Doses_Week          1469\n",
       "Number_Weeks_Used          1304\n",
       "Number_Weeks_Quit          1469\n",
       "Season                     1469\n",
       "Crop_Damage                1469\n",
       "dtype: int64"
      ]
     },
     "execution_count": 87,
     "metadata": {},
     "output_type": "execute_result"
    }
   ],
   "source": [
    "Orig_df[(Orig_df['Pesticide_Use_Category']==3) & (Orig_df['Crop_Damage']==2)].count()"
   ]
  },
  {
   "cell_type": "code",
   "execution_count": null,
   "metadata": {},
   "outputs": [],
   "source": []
  }
 ],
 "metadata": {
  "kernelspec": {
   "display_name": "Python 3",
   "language": "python",
   "name": "python3"
  },
  "language_info": {
   "codemirror_mode": {
    "name": "ipython",
    "version": 3
   },
   "file_extension": ".py",
   "mimetype": "text/x-python",
   "name": "python",
   "nbconvert_exporter": "python",
   "pygments_lexer": "ipython3",
   "version": "3.7.7"
  }
 },
 "nbformat": 4,
 "nbformat_minor": 2
}
